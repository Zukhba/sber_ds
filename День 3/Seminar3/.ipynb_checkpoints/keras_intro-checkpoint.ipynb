{
 "cells": [
  {
   "cell_type": "markdown",
   "metadata": {},
   "source": [
    "# Нейронные сети с Keras\n",
    "Keras -- простая библиотека для написания нейронных сетей. Keras не позволяет строить сложные модели со специфическими функциями потерь, но зато удобен в использовании. Синтаксис Keras напоминает синтаксис sklearn."
   ]
  },
  {
   "cell_type": "code",
   "execution_count": 1,
   "metadata": {},
   "outputs": [
    {
     "name": "stderr",
     "output_type": "stream",
     "text": [
      "/Users/anastasiazuhba/anaconda3/envs/Py3ML/lib/python3.6/site-packages/h5py/__init__.py:36: FutureWarning: Conversion of the second argument of issubdtype from `float` to `np.floating` is deprecated. In future, it will be treated as `np.float64 == np.dtype(float).type`.\n",
      "  from ._conv import register_converters as _register_converters\n",
      "Using TensorFlow backend.\n"
     ]
    }
   ],
   "source": [
    "import numpy as np\n",
    "import keras, keras.layers as L"
   ]
  },
  {
   "cell_type": "markdown",
   "metadata": {},
   "source": [
    "### Введение\n",
    "Основной класс для работы с керасом -- модель Sequential. В модель можно последовательно добавлять слои нейронной сети. \n",
    "\n",
    "После добавления всех слоёв можно вызвать model.compile, указав в аргументах функцию потерь, оптимизатор и метрику, которую необходимо считать при оптиимзации.\n",
    "\n",
    "Функция .summary выводит информацию о нейронной сети."
   ]
  },
  {
   "cell_type": "code",
   "execution_count": 17,
   "metadata": {},
   "outputs": [],
   "source": [
    "model = keras.models.Sequential()\n",
    "model.add(L.InputLayer(input_shape=[64]))\n",
    "model.add(L.Dense(100, activation='relu'))\n",
    "model.add(L.Dense(10, activation='softmax'))\n",
    "\n",
    "model.compile(loss='sparse_categorical_crossentropy', optimizer='adam', metrics=['accuracy'])"
   ]
  },
  {
   "cell_type": "code",
   "execution_count": 18,
   "metadata": {},
   "outputs": [
    {
     "name": "stdout",
     "output_type": "stream",
     "text": [
      "_________________________________________________________________\n",
      "Layer (type)                 Output Shape              Param #   \n",
      "=================================================================\n",
      "dense_9 (Dense)              (None, 100)               6500      \n",
      "_________________________________________________________________\n",
      "dense_10 (Dense)             (None, 10)                1010      \n",
      "=================================================================\n",
      "Total params: 7,510\n",
      "Trainable params: 7,510\n",
      "Non-trainable params: 0\n",
      "_________________________________________________________________\n"
     ]
    }
   ],
   "source": [
    "model.summary()"
   ]
  },
  {
   "cell_type": "markdown",
   "metadata": {},
   "source": [
    "Обучим модель на датасете digits. "
   ]
  },
  {
   "cell_type": "code",
   "execution_count": 19,
   "metadata": {},
   "outputs": [
    {
     "data": {
      "text/plain": [
       "0"
      ]
     },
     "execution_count": 19,
     "metadata": {},
     "output_type": "execute_result"
    },
    {
     "data": {
      "image/png": "[encoded data removed]",
      "text/plain": [
       "<Figure size 432x288 with 1 Axes>"
      ]
     },
     "metadata": {},
     "output_type": "display_data"
    }
   ],
   "source": [
    "from sklearn.datasets import load_digits\n",
    "import matplotlib.pyplot as plt\n",
    "%matplotlib inline\n",
    "X, y = load_digits(return_X_y=True)\n",
    "plt.imshow(X[0].reshape((8,8)))\n",
    "y[0]"
   ]
  },
  {
   "cell_type": "code",
   "execution_count": 20,
   "metadata": {},
   "outputs": [
    {
     "data": {
      "text/plain": [
       "(1797, 64)"
      ]
     },
     "execution_count": 20,
     "metadata": {},
     "output_type": "execute_result"
    }
   ],
   "source": [
    "X.shape"
   ]
  },
  {
   "cell_type": "code",
   "execution_count": 21,
   "metadata": {},
   "outputs": [
    {
     "name": "stdout",
     "output_type": "stream",
     "text": [
      "Epoch 1/1\n",
      "1797/1797 [==============================] - 0s 203us/step - loss: 2.2866 - acc: 0.5342\n",
      "\n",
      "Accuracy = 0.844\n"
     ]
    }
   ],
   "source": [
    "from sklearn.datasets import load_digits\n",
    "X, y = load_digits(return_X_y=True)\n",
    "\n",
    "model.fit(X, y, epochs=1)\n",
    "\n",
    "y_pred = model.predict_classes(X)\n",
    "y_proba = model.predict_proba(X)\n",
    "\n",
    "from sklearn.metrics import accuracy_score\n",
    "print(\"\\nAccuracy = %.3f\" % accuracy_score(y, y_pred))"
   ]
  },
  {
   "cell_type": "markdown",
   "metadata": {},
   "source": [
    "### Обобщающая способность нейронной сети\n",
    "Визуализируем предсказания нейронной сети на простой задаче восстановления одномерной зависимости. "
   ]
  },
  {
   "cell_type": "code",
   "execution_count": 7,
   "metadata": {},
   "outputs": [
    {
     "data": {
      "text/plain": [
       "[<matplotlib.lines.Line2D at 0x1a263faef0>]"
      ]
     },
     "execution_count": 7,
     "metadata": {},
     "output_type": "execute_result"
    },
    {
     "data": {
      "image/png": "[encoded data removed]",
      "text/plain": [
       "<Figure size 432x288 with 1 Axes>"
      ]
     },
     "metadata": {},
     "output_type": "display_data"
    }
   ],
   "source": [
    "X = np.linspace(-5, 5, 1000)\n",
    "y = 0.05 * X ** 4 - 0.5 * X ** 3 + 8 * X - 3 + 4 * np.sin(X**2 / 2)\n",
    "plt.plot(X,y)"
   ]
  },
  {
   "cell_type": "markdown",
   "metadata": {},
   "source": [
    "Подберём нейронную сеть, хорошо приближающую нашу функцию."
   ]
  },
  {
   "cell_type": "code",
   "execution_count": 8,
   "metadata": {},
   "outputs": [],
   "source": [
    "model = keras.models.Sequential()\n",
    "model.add(L.InputLayer([1]))\n",
    "model.add(L.Dense(50, activation='relu'))\n",
    "model.add(L.Dense(50, activation='sigmoid'))\n",
    "model.add(L.Dense(1))\n",
    "model.compile(loss='mean_squared_error', optimizer='adam')"
   ]
  },
  {
   "cell_type": "code",
   "execution_count": 9,
   "metadata": {},
   "outputs": [
    {
     "name": "stdout",
     "output_type": "stream",
     "text": [
      "Epoch 1/300\n",
      "1000/1000 [==============================] - 0s 327us/step - loss: 161.7626\n",
      "Epoch 2/300\n",
      "1000/1000 [==============================] - 0s 66us/step - loss: 149.0369\n",
      "Epoch 3/300\n",
      "1000/1000 [==============================] - 0s 59us/step - loss: 140.5661\n",
      "Epoch 4/300\n",
      "1000/1000 [==============================] - 0s 70us/step - loss: 134.9783\n",
      "Epoch 5/300\n",
      "1000/1000 [==============================] - 0s 53us/step - loss: 131.0302\n",
      "Epoch 6/300\n",
      "1000/1000 [==============================] - 0s 54us/step - loss: 127.5601\n",
      "Epoch 7/300\n",
      "1000/1000 [==============================] - 0s 53us/step - loss: 123.8129\n",
      "Epoch 8/300\n",
      "1000/1000 [==============================] - 0s 52us/step - loss: 120.1783\n",
      "Epoch 9/300\n",
      "1000/1000 [==============================] - 0s 53us/step - loss: 116.5767\n",
      "Epoch 10/300\n",
      "1000/1000 [==============================] - 0s 54us/step - loss: 112.1626\n",
      "Epoch 11/300\n",
      "1000/1000 [==============================] - 0s 53us/step - loss: 107.7796\n",
      "Epoch 12/300\n",
      "1000/1000 [==============================] - 0s 52us/step - loss: 103.3042\n",
      "Epoch 13/300\n",
      "1000/1000 [==============================] - 0s 56us/step - loss: 98.7007\n",
      "Epoch 14/300\n",
      "1000/1000 [==============================] - 0s 58us/step - loss: 94.1148\n",
      "Epoch 15/300\n",
      "1000/1000 [==============================] - 0s 52us/step - loss: 89.7533\n",
      "Epoch 16/300\n",
      "1000/1000 [==============================] - 0s 56us/step - loss: 85.4520\n",
      "Epoch 17/300\n",
      "1000/1000 [==============================] - 0s 57us/step - loss: 81.2191\n",
      "Epoch 18/300\n",
      "1000/1000 [==============================] - 0s 52us/step - loss: 77.2219\n",
      "Epoch 19/300\n",
      "1000/1000 [==============================] - 0s 58us/step - loss: 73.5745\n",
      "Epoch 20/300\n",
      "1000/1000 [==============================] - 0s 66us/step - loss: 70.0818\n",
      "Epoch 21/300\n",
      "1000/1000 [==============================] - 0s 62us/step - loss: 67.0818\n",
      "Epoch 22/300\n",
      "1000/1000 [==============================] - 0s 59us/step - loss: 64.0897\n",
      "Epoch 23/300\n",
      "1000/1000 [==============================] - 0s 80us/step - loss: 61.4907\n",
      "Epoch 24/300\n",
      "1000/1000 [==============================] - 0s 60us/step - loss: 59.2198\n",
      "Epoch 25/300\n",
      "1000/1000 [==============================] - 0s 66us/step - loss: 57.2647\n",
      "Epoch 26/300\n",
      "1000/1000 [==============================] - 0s 66us/step - loss: 55.2117\n",
      "Epoch 27/300\n",
      "1000/1000 [==============================] - 0s 60us/step - loss: 53.5068\n",
      "Epoch 28/300\n",
      "1000/1000 [==============================] - 0s 63us/step - loss: 51.9433\n",
      "Epoch 29/300\n",
      "1000/1000 [==============================] - 0s 59us/step - loss: 50.5579\n",
      "Epoch 30/300\n",
      "1000/1000 [==============================] - 0s 55us/step - loss: 49.2524\n",
      "Epoch 31/300\n",
      "1000/1000 [==============================] - 0s 58us/step - loss: 46.9383\n",
      "Epoch 32/300\n",
      "1000/1000 [==============================] - 0s 53us/step - loss: 45.6500\n",
      "Epoch 33/300\n",
      "1000/1000 [==============================] - 0s 71us/step - loss: 43.8814\n",
      "Epoch 34/300\n",
      "1000/1000 [==============================] - 0s 69us/step - loss: 42.7124\n",
      "Epoch 35/300\n",
      "1000/1000 [==============================] - 0s 64us/step - loss: 41.3004\n",
      "Epoch 36/300\n",
      "1000/1000 [==============================] - 0s 53us/step - loss: 39.0972\n",
      "Epoch 37/300\n",
      "1000/1000 [==============================] - 0s 50us/step - loss: 37.4615\n",
      "Epoch 38/300\n",
      "1000/1000 [==============================] - 0s 49us/step - loss: 36.3410\n",
      "Epoch 39/300\n",
      "1000/1000 [==============================] - 0s 52us/step - loss: 34.8011\n",
      "Epoch 40/300\n",
      "1000/1000 [==============================] - 0s 51us/step - loss: 33.3438\n",
      "Epoch 41/300\n",
      "1000/1000 [==============================] - 0s 56us/step - loss: 32.4434\n",
      "Epoch 42/300\n",
      "1000/1000 [==============================] - 0s 55us/step - loss: 31.5311\n",
      "Epoch 43/300\n",
      "1000/1000 [==============================] - 0s 53us/step - loss: 30.7946\n",
      "Epoch 44/300\n",
      "1000/1000 [==============================] - 0s 56us/step - loss: 30.1153\n",
      "Epoch 45/300\n",
      "1000/1000 [==============================] - 0s 60us/step - loss: 29.5197\n",
      "Epoch 46/300\n",
      "1000/1000 [==============================] - 0s 63us/step - loss: 28.8663\n",
      "Epoch 47/300\n",
      "1000/1000 [==============================] - 0s 72us/step - loss: 28.3558\n",
      "Epoch 48/300\n",
      "1000/1000 [==============================] - 0s 58us/step - loss: 27.8022\n",
      "Epoch 49/300\n",
      "1000/1000 [==============================] - 0s 55us/step - loss: 27.3349\n",
      "Epoch 50/300\n",
      "1000/1000 [==============================] - 0s 57us/step - loss: 26.9100\n",
      "Epoch 51/300\n",
      "1000/1000 [==============================] - 0s 55us/step - loss: 26.5047\n",
      "Epoch 52/300\n",
      "1000/1000 [==============================] - 0s 60us/step - loss: 26.1161\n",
      "Epoch 53/300\n",
      "1000/1000 [==============================] - 0s 122us/step - loss: 25.7314\n",
      "Epoch 54/300\n",
      "1000/1000 [==============================] - 0s 104us/step - loss: 25.3749\n",
      "Epoch 55/300\n",
      "1000/1000 [==============================] - 0s 101us/step - loss: 25.0489\n",
      "Epoch 56/300\n",
      "1000/1000 [==============================] - 0s 65us/step - loss: 24.7243\n",
      "Epoch 57/300\n",
      "1000/1000 [==============================] - 0s 49us/step - loss: 24.4125\n",
      "Epoch 58/300\n",
      "1000/1000 [==============================] - 0s 58us/step - loss: 24.1206\n",
      "Epoch 59/300\n",
      "1000/1000 [==============================] - 0s 60us/step - loss: 23.8444\n",
      "Epoch 60/300\n",
      "1000/1000 [==============================] - 0s 61us/step - loss: 23.5518\n",
      "Epoch 61/300\n",
      "1000/1000 [==============================] - 0s 56us/step - loss: 23.2869\n",
      "Epoch 62/300\n",
      "1000/1000 [==============================] - 0s 62us/step - loss: 23.0205\n",
      "Epoch 63/300\n",
      "1000/1000 [==============================] - 0s 58us/step - loss: 22.7441\n",
      "Epoch 64/300\n",
      "1000/1000 [==============================] - 0s 57us/step - loss: 21.8890\n",
      "Epoch 65/300\n",
      "1000/1000 [==============================] - 0s 61us/step - loss: 20.8379\n",
      "Epoch 66/300\n",
      "1000/1000 [==============================] - 0s 53us/step - loss: 20.4563\n",
      "Epoch 67/300\n",
      "1000/1000 [==============================] - 0s 62us/step - loss: 20.1660\n",
      "Epoch 68/300\n",
      "1000/1000 [==============================] - 0s 47us/step - loss: 19.8958\n",
      "Epoch 69/300\n",
      "1000/1000 [==============================] - 0s 46us/step - loss: 19.6504\n",
      "Epoch 70/300\n",
      "1000/1000 [==============================] - 0s 43us/step - loss: 19.3925\n",
      "Epoch 71/300\n",
      "1000/1000 [==============================] - 0s 58us/step - loss: 19.1554\n",
      "Epoch 72/300\n",
      "1000/1000 [==============================] - 0s 45us/step - loss: 18.5388\n",
      "Epoch 73/300\n",
      "1000/1000 [==============================] - 0s 47us/step - loss: 17.9051\n",
      "Epoch 74/300\n",
      "1000/1000 [==============================] - 0s 44us/step - loss: 17.6160\n",
      "Epoch 75/300\n",
      "1000/1000 [==============================] - 0s 47us/step - loss: 17.3577\n",
      "Epoch 76/300\n",
      "1000/1000 [==============================] - 0s 53us/step - loss: 17.1390\n",
      "Epoch 77/300\n",
      "1000/1000 [==============================] - 0s 53us/step - loss: 16.9290\n",
      "Epoch 78/300\n",
      "1000/1000 [==============================] - 0s 58us/step - loss: 16.6863\n",
      "Epoch 79/300\n",
      "1000/1000 [==============================] - 0s 52us/step - loss: 16.4830\n",
      "Epoch 80/300\n",
      "1000/1000 [==============================] - 0s 61us/step - loss: 16.2743\n",
      "Epoch 81/300\n",
      "1000/1000 [==============================] - 0s 60us/step - loss: 16.0829\n",
      "Epoch 82/300\n",
      "1000/1000 [==============================] - 0s 56us/step - loss: 15.8912\n",
      "Epoch 83/300\n",
      "1000/1000 [==============================] - 0s 63us/step - loss: 15.7073\n",
      "Epoch 84/300\n",
      "1000/1000 [==============================] - 0s 51us/step - loss: 15.5254\n",
      "Epoch 85/300\n",
      "1000/1000 [==============================] - 0s 44us/step - loss: 15.3465\n",
      "Epoch 86/300\n",
      "1000/1000 [==============================] - 0s 61us/step - loss: 15.1801\n",
      "Epoch 87/300\n",
      "1000/1000 [==============================] - 0s 62us/step - loss: 14.9833\n",
      "Epoch 88/300\n",
      "1000/1000 [==============================] - 0s 130us/step - loss: 14.8404\n",
      "Epoch 89/300\n",
      "1000/1000 [==============================] - 0s 102us/step - loss: 14.6689\n",
      "Epoch 90/300\n",
      "1000/1000 [==============================] - 0s 139us/step - loss: 14.4988\n",
      "Epoch 91/300\n",
      "1000/1000 [==============================] - 0s 97us/step - loss: 14.3284\n",
      "Epoch 92/300\n",
      "1000/1000 [==============================] - 0s 62us/step - loss: 14.1789\n",
      "Epoch 93/300\n",
      "1000/1000 [==============================] - 0s 57us/step - loss: 14.0110\n",
      "Epoch 94/300\n",
      "1000/1000 [==============================] - 0s 53us/step - loss: 13.8734\n",
      "Epoch 95/300\n"
     ]
    },
    {
     "name": "stdout",
     "output_type": "stream",
     "text": [
      "1000/1000 [==============================] - 0s 49us/step - loss: 13.7112\n",
      "Epoch 96/300\n",
      "1000/1000 [==============================] - 0s 57us/step - loss: 13.5424\n",
      "Epoch 97/300\n",
      "1000/1000 [==============================] - 0s 64us/step - loss: 13.4106\n",
      "Epoch 98/300\n",
      "1000/1000 [==============================] - 0s 50us/step - loss: 13.2480\n",
      "Epoch 99/300\n",
      "1000/1000 [==============================] - 0s 45us/step - loss: 13.1097\n",
      "Epoch 100/300\n",
      "1000/1000 [==============================] - 0s 47us/step - loss: 12.9819\n",
      "Epoch 101/300\n",
      "1000/1000 [==============================] - 0s 62us/step - loss: 12.8257\n",
      "Epoch 102/300\n",
      "1000/1000 [==============================] - 0s 54us/step - loss: 12.7036\n",
      "Epoch 103/300\n",
      "1000/1000 [==============================] - 0s 81us/step - loss: 12.5781\n",
      "Epoch 104/300\n",
      "1000/1000 [==============================] - 0s 105us/step - loss: 12.4228\n",
      "Epoch 105/300\n",
      "1000/1000 [==============================] - 0s 84us/step - loss: 12.2775\n",
      "Epoch 106/300\n",
      "1000/1000 [==============================] - 0s 83us/step - loss: 12.1429\n",
      "Epoch 107/300\n",
      "1000/1000 [==============================] - 0s 88us/step - loss: 12.0219\n",
      "Epoch 108/300\n",
      "1000/1000 [==============================] - 0s 84us/step - loss: 11.8868\n",
      "Epoch 109/300\n",
      "1000/1000 [==============================] - 0s 99us/step - loss: 11.7634\n",
      "Epoch 110/300\n",
      "1000/1000 [==============================] - 0s 75us/step - loss: 11.6179\n",
      "Epoch 111/300\n",
      "1000/1000 [==============================] - 0s 51us/step - loss: 11.4974\n",
      "Epoch 112/300\n",
      "1000/1000 [==============================] - 0s 47us/step - loss: 11.3583\n",
      "Epoch 113/300\n",
      "1000/1000 [==============================] - 0s 92us/step - loss: 11.2363\n",
      "Epoch 114/300\n",
      "1000/1000 [==============================] - 0s 75us/step - loss: 11.1125\n",
      "Epoch 115/300\n",
      "1000/1000 [==============================] - 0s 87us/step - loss: 10.9875\n",
      "Epoch 116/300\n",
      "1000/1000 [==============================] - 0s 73us/step - loss: 10.8824\n",
      "Epoch 117/300\n",
      "1000/1000 [==============================] - 0s 72us/step - loss: 10.7517\n",
      "Epoch 118/300\n",
      "1000/1000 [==============================] - 0s 81us/step - loss: 10.6483\n",
      "Epoch 119/300\n",
      "1000/1000 [==============================] - 0s 70us/step - loss: 10.5502\n",
      "Epoch 120/300\n",
      "1000/1000 [==============================] - 0s 74us/step - loss: 10.4309\n",
      "Epoch 121/300\n",
      "1000/1000 [==============================] - 0s 79us/step - loss: 10.3346\n",
      "Epoch 122/300\n",
      "1000/1000 [==============================] - 0s 76us/step - loss: 10.2331\n",
      "Epoch 123/300\n",
      "1000/1000 [==============================] - 0s 76us/step - loss: 10.1302\n",
      "Epoch 124/300\n",
      "1000/1000 [==============================] - 0s 64us/step - loss: 10.0265\n",
      "Epoch 125/300\n",
      "1000/1000 [==============================] - 0s 44us/step - loss: 9.9339\n",
      "Epoch 126/300\n",
      "1000/1000 [==============================] - 0s 51us/step - loss: 9.8377\n",
      "Epoch 127/300\n",
      "1000/1000 [==============================] - 0s 105us/step - loss: 9.7285\n",
      "Epoch 128/300\n",
      "1000/1000 [==============================] - 0s 98us/step - loss: 9.6245\n",
      "Epoch 129/300\n",
      "1000/1000 [==============================] - 0s 96us/step - loss: 9.5348\n",
      "Epoch 130/300\n",
      "1000/1000 [==============================] - 0s 84us/step - loss: 9.4481\n",
      "Epoch 131/300\n",
      "1000/1000 [==============================] - 0s 84us/step - loss: 9.3640\n",
      "Epoch 132/300\n",
      "1000/1000 [==============================] - 0s 90us/step - loss: 9.2585\n",
      "Epoch 133/300\n",
      "1000/1000 [==============================] - 0s 91us/step - loss: 9.1795\n",
      "Epoch 134/300\n",
      "1000/1000 [==============================] - 0s 86us/step - loss: 9.0963\n",
      "Epoch 135/300\n",
      "1000/1000 [==============================] - 0s 86us/step - loss: 8.9959\n",
      "Epoch 136/300\n",
      "1000/1000 [==============================] - 0s 85us/step - loss: 8.9171\n",
      "Epoch 137/300\n",
      "1000/1000 [==============================] - 0s 59us/step - loss: 8.8292\n",
      "Epoch 138/300\n",
      "1000/1000 [==============================] - 0s 70us/step - loss: 8.7513\n",
      "Epoch 139/300\n",
      "1000/1000 [==============================] - 0s 116us/step - loss: 8.6570\n",
      "Epoch 140/300\n",
      "1000/1000 [==============================] - 0s 76us/step - loss: 8.5863\n",
      "Epoch 141/300\n",
      "1000/1000 [==============================] - 0s 78us/step - loss: 8.5021\n",
      "Epoch 142/300\n",
      "1000/1000 [==============================] - 0s 86us/step - loss: 8.4233\n",
      "Epoch 143/300\n",
      "1000/1000 [==============================] - 0s 88us/step - loss: 8.3426\n",
      "Epoch 144/300\n",
      "1000/1000 [==============================] - 0s 59us/step - loss: 8.2973\n",
      "Epoch 145/300\n",
      "1000/1000 [==============================] - 0s 102us/step - loss: 8.2321\n",
      "Epoch 146/300\n",
      "1000/1000 [==============================] - 0s 125us/step - loss: 8.1326\n",
      "Epoch 147/300\n",
      "1000/1000 [==============================] - 0s 88us/step - loss: 8.0660\n",
      "Epoch 148/300\n",
      "1000/1000 [==============================] - 0s 84us/step - loss: 7.9800\n",
      "Epoch 149/300\n",
      "1000/1000 [==============================] - 0s 75us/step - loss: 7.9161\n",
      "Epoch 150/300\n",
      "1000/1000 [==============================] - 0s 95us/step - loss: 7.8334\n",
      "Epoch 151/300\n",
      "1000/1000 [==============================] - 0s 58us/step - loss: 7.7468\n",
      "Epoch 152/300\n",
      "1000/1000 [==============================] - 0s 107us/step - loss: 7.6854\n",
      "Epoch 153/300\n",
      "1000/1000 [==============================] - 0s 80us/step - loss: 7.6124\n",
      "Epoch 154/300\n",
      "1000/1000 [==============================] - 0s 89us/step - loss: 7.5591\n",
      "Epoch 155/300\n",
      "1000/1000 [==============================] - 0s 92us/step - loss: 7.4854\n",
      "Epoch 156/300\n",
      "1000/1000 [==============================] - 0s 89us/step - loss: 7.4101\n",
      "Epoch 157/300\n",
      "1000/1000 [==============================] - 0s 87us/step - loss: 7.3477\n",
      "Epoch 158/300\n",
      "1000/1000 [==============================] - 0s 93us/step - loss: 7.2765\n",
      "Epoch 159/300\n",
      "1000/1000 [==============================] - 0s 65us/step - loss: 7.2238\n",
      "Epoch 160/300\n",
      "1000/1000 [==============================] - 0s 102us/step - loss: 7.1557\n",
      "Epoch 161/300\n",
      "1000/1000 [==============================] - 0s 81us/step - loss: 7.1002\n",
      "Epoch 162/300\n",
      "1000/1000 [==============================] - 0s 93us/step - loss: 7.0895\n",
      "Epoch 163/300\n",
      "1000/1000 [==============================] - 0s 77us/step - loss: 6.9804\n",
      "Epoch 164/300\n",
      "1000/1000 [==============================] - 0s 89us/step - loss: 6.9733\n",
      "Epoch 165/300\n",
      "1000/1000 [==============================] - 0s 92us/step - loss: 6.8748\n",
      "Epoch 166/300\n",
      "1000/1000 [==============================] - 0s 77us/step - loss: 6.8148\n",
      "Epoch 167/300\n",
      "1000/1000 [==============================] - 0s 79us/step - loss: 6.7687\n",
      "Epoch 168/300\n",
      "1000/1000 [==============================] - 0s 81us/step - loss: 6.7281\n",
      "Epoch 169/300\n",
      "1000/1000 [==============================] - 0s 85us/step - loss: 6.6493\n",
      "Epoch 170/300\n",
      "1000/1000 [==============================] - 0s 74us/step - loss: 6.6419\n",
      "Epoch 171/300\n",
      "1000/1000 [==============================] - 0s 100us/step - loss: 6.5708\n",
      "Epoch 172/300\n",
      "1000/1000 [==============================] - 0s 100us/step - loss: 6.5244\n",
      "Epoch 173/300\n",
      "1000/1000 [==============================] - 0s 81us/step - loss: 6.4731\n",
      "Epoch 174/300\n",
      "1000/1000 [==============================] - 0s 81us/step - loss: 6.4248\n",
      "Epoch 175/300\n",
      "1000/1000 [==============================] - 0s 106us/step - loss: 6.3838\n",
      "Epoch 176/300\n",
      "1000/1000 [==============================] - 0s 79us/step - loss: 6.3045\n",
      "Epoch 177/300\n",
      "1000/1000 [==============================] - 0s 84us/step - loss: 6.2537\n",
      "Epoch 178/300\n",
      "1000/1000 [==============================] - 0s 68us/step - loss: 6.1957\n",
      "Epoch 179/300\n",
      "1000/1000 [==============================] - 0s 70us/step - loss: 6.1434\n",
      "Epoch 180/300\n",
      "1000/1000 [==============================] - 0s 82us/step - loss: 6.0925\n",
      "Epoch 181/300\n",
      "1000/1000 [==============================] - 0s 89us/step - loss: 6.0633\n",
      "Epoch 182/300\n",
      "1000/1000 [==============================] - 0s 103us/step - loss: 6.0331\n",
      "Epoch 183/300\n",
      "1000/1000 [==============================] - 0s 76us/step - loss: 5.9640\n",
      "Epoch 184/300\n",
      "1000/1000 [==============================] - 0s 76us/step - loss: 5.9666\n",
      "Epoch 185/300\n",
      "1000/1000 [==============================] - 0s 74us/step - loss: 5.8622\n",
      "Epoch 186/300\n",
      "1000/1000 [==============================] - 0s 53us/step - loss: 5.8661\n",
      "Epoch 187/300\n",
      "1000/1000 [==============================] - 0s 102us/step - loss: 5.7974\n",
      "Epoch 188/300\n"
     ]
    },
    {
     "name": "stdout",
     "output_type": "stream",
     "text": [
      "1000/1000 [==============================] - 0s 80us/step - loss: 5.7877\n",
      "Epoch 189/300\n",
      "1000/1000 [==============================] - 0s 82us/step - loss: 5.7230\n",
      "Epoch 190/300\n",
      "1000/1000 [==============================] - 0s 75us/step - loss: 5.6560\n",
      "Epoch 191/300\n",
      "1000/1000 [==============================] - 0s 83us/step - loss: 5.6231\n",
      "Epoch 192/300\n",
      "1000/1000 [==============================] - 0s 67us/step - loss: 5.5867\n",
      "Epoch 193/300\n",
      "1000/1000 [==============================] - 0s 86us/step - loss: 5.5372\n",
      "Epoch 194/300\n",
      "1000/1000 [==============================] - 0s 80us/step - loss: 5.5149\n",
      "Epoch 195/300\n",
      "1000/1000 [==============================] - 0s 50us/step - loss: 5.4413\n",
      "Epoch 196/300\n",
      "1000/1000 [==============================] - 0s 45us/step - loss: 5.4122\n",
      "Epoch 197/300\n",
      "1000/1000 [==============================] - 0s 45us/step - loss: 5.3777\n",
      "Epoch 198/300\n",
      "1000/1000 [==============================] - 0s 48us/step - loss: 5.3399\n",
      "Epoch 199/300\n",
      "1000/1000 [==============================] - 0s 51us/step - loss: 5.2992\n",
      "Epoch 200/300\n",
      "1000/1000 [==============================] - 0s 57us/step - loss: 5.2929\n",
      "Epoch 201/300\n",
      "1000/1000 [==============================] - 0s 53us/step - loss: 5.2304\n",
      "Epoch 202/300\n",
      "1000/1000 [==============================] - 0s 47us/step - loss: 5.1980\n",
      "Epoch 203/300\n",
      "1000/1000 [==============================] - 0s 50us/step - loss: 5.1617\n",
      "Epoch 204/300\n",
      "1000/1000 [==============================] - 0s 60us/step - loss: 5.1725\n",
      "Epoch 205/300\n",
      "1000/1000 [==============================] - 0s 50us/step - loss: 5.1136\n",
      "Epoch 206/300\n",
      "1000/1000 [==============================] - 0s 57us/step - loss: 5.0743\n",
      "Epoch 207/300\n",
      "1000/1000 [==============================] - 0s 57us/step - loss: 5.0497\n",
      "Epoch 208/300\n",
      "1000/1000 [==============================] - 0s 55us/step - loss: 4.9988\n",
      "Epoch 209/300\n",
      "1000/1000 [==============================] - 0s 67us/step - loss: 4.9891\n",
      "Epoch 210/300\n",
      "1000/1000 [==============================] - 0s 66us/step - loss: 4.9543\n",
      "Epoch 211/300\n",
      "1000/1000 [==============================] - 0s 46us/step - loss: 4.9181\n",
      "Epoch 212/300\n",
      "1000/1000 [==============================] - 0s 45us/step - loss: 4.8820\n",
      "Epoch 213/300\n",
      "1000/1000 [==============================] - ETA: 0s - loss: 3.253 - 0s 45us/step - loss: 4.8689\n",
      "Epoch 214/300\n",
      "1000/1000 [==============================] - 0s 46us/step - loss: 4.8466\n",
      "Epoch 215/300\n",
      "1000/1000 [==============================] - 0s 43us/step - loss: 4.8352\n",
      "Epoch 216/300\n",
      "1000/1000 [==============================] - 0s 45us/step - loss: 4.7711\n",
      "Epoch 217/300\n",
      "1000/1000 [==============================] - 0s 49us/step - loss: 4.7262\n",
      "Epoch 218/300\n",
      "1000/1000 [==============================] - 0s 46us/step - loss: 4.7291\n",
      "Epoch 219/300\n",
      "1000/1000 [==============================] - 0s 52us/step - loss: 4.6824\n",
      "Epoch 220/300\n",
      "1000/1000 [==============================] - 0s 45us/step - loss: 4.6643\n",
      "Epoch 221/300\n",
      "1000/1000 [==============================] - 0s 54us/step - loss: 4.6875\n",
      "Epoch 222/300\n",
      "1000/1000 [==============================] - 0s 60us/step - loss: 4.6227\n",
      "Epoch 223/300\n",
      "1000/1000 [==============================] - 0s 51us/step - loss: 4.5804\n",
      "Epoch 224/300\n",
      "1000/1000 [==============================] - 0s 53us/step - loss: 4.5813\n",
      "Epoch 225/300\n",
      "1000/1000 [==============================] - 0s 54us/step - loss: 4.5322\n",
      "Epoch 226/300\n",
      "1000/1000 [==============================] - 0s 50us/step - loss: 4.4989\n",
      "Epoch 227/300\n",
      "1000/1000 [==============================] - 0s 68us/step - loss: 4.5098\n",
      "Epoch 228/300\n",
      "1000/1000 [==============================] - 0s 92us/step - loss: 4.4769\n",
      "Epoch 229/300\n",
      "1000/1000 [==============================] - 0s 106us/step - loss: 4.4167\n",
      "Epoch 230/300\n",
      "1000/1000 [==============================] - 0s 68us/step - loss: 4.4001\n",
      "Epoch 231/300\n",
      "1000/1000 [==============================] - 0s 51us/step - loss: 4.3960\n",
      "Epoch 232/300\n",
      "1000/1000 [==============================] - 0s 62us/step - loss: 4.3463\n",
      "Epoch 233/300\n",
      "1000/1000 [==============================] - 0s 56us/step - loss: 4.3222\n",
      "Epoch 234/300\n",
      "1000/1000 [==============================] - 0s 51us/step - loss: 4.2955\n",
      "Epoch 235/300\n",
      "1000/1000 [==============================] - 0s 53us/step - loss: 4.2825\n",
      "Epoch 236/300\n",
      "1000/1000 [==============================] - 0s 56us/step - loss: 4.2525\n",
      "Epoch 237/300\n",
      "1000/1000 [==============================] - 0s 49us/step - loss: 4.2281\n",
      "Epoch 238/300\n",
      "1000/1000 [==============================] - 0s 48us/step - loss: 4.2121\n",
      "Epoch 239/300\n",
      "1000/1000 [==============================] - 0s 46us/step - loss: 4.2013\n",
      "Epoch 240/300\n",
      "1000/1000 [==============================] - 0s 49us/step - loss: 4.1673\n",
      "Epoch 241/300\n",
      "1000/1000 [==============================] - 0s 48us/step - loss: 4.1493\n",
      "Epoch 242/300\n",
      "1000/1000 [==============================] - 0s 54us/step - loss: 4.1445\n",
      "Epoch 243/300\n",
      "1000/1000 [==============================] - 0s 51us/step - loss: 4.1337\n",
      "Epoch 244/300\n",
      "1000/1000 [==============================] - 0s 50us/step - loss: 4.1085\n",
      "Epoch 245/300\n",
      "1000/1000 [==============================] - 0s 50us/step - loss: 4.0751\n",
      "Epoch 246/300\n",
      "1000/1000 [==============================] - 0s 47us/step - loss: 4.0988\n",
      "Epoch 247/300\n",
      "1000/1000 [==============================] - 0s 52us/step - loss: 4.0836\n",
      "Epoch 248/300\n",
      "1000/1000 [==============================] - 0s 49us/step - loss: 4.0697\n",
      "Epoch 249/300\n",
      "1000/1000 [==============================] - 0s 58us/step - loss: 4.0155\n",
      "Epoch 250/300\n",
      "1000/1000 [==============================] - 0s 58us/step - loss: 3.9906\n",
      "Epoch 251/300\n",
      "1000/1000 [==============================] - 0s 50us/step - loss: 3.9665\n",
      "Epoch 252/300\n",
      "1000/1000 [==============================] - 0s 49us/step - loss: 3.9587\n",
      "Epoch 253/300\n",
      "1000/1000 [==============================] - 0s 54us/step - loss: 3.9360\n",
      "Epoch 254/300\n",
      "1000/1000 [==============================] - 0s 56us/step - loss: 3.9091\n",
      "Epoch 255/300\n",
      "1000/1000 [==============================] - 0s 51us/step - loss: 3.8815\n",
      "Epoch 256/300\n",
      "1000/1000 [==============================] - 0s 52us/step - loss: 3.8822\n",
      "Epoch 257/300\n",
      "1000/1000 [==============================] - 0s 60us/step - loss: 3.8511\n",
      "Epoch 258/300\n",
      "1000/1000 [==============================] - 0s 57us/step - loss: 3.8573\n",
      "Epoch 259/300\n",
      "1000/1000 [==============================] - 0s 57us/step - loss: 3.8260\n",
      "Epoch 260/300\n",
      "1000/1000 [==============================] - 0s 46us/step - loss: 3.8290\n",
      "Epoch 261/300\n",
      "1000/1000 [==============================] - 0s 49us/step - loss: 3.8245\n",
      "Epoch 262/300\n",
      "1000/1000 [==============================] - 0s 47us/step - loss: 3.7889\n",
      "Epoch 263/300\n",
      "1000/1000 [==============================] - 0s 93us/step - loss: 3.7604\n",
      "Epoch 264/300\n",
      "1000/1000 [==============================] - 0s 102us/step - loss: 3.7469\n",
      "Epoch 265/300\n",
      "1000/1000 [==============================] - 0s 89us/step - loss: 3.7468\n",
      "Epoch 266/300\n",
      "1000/1000 [==============================] - 0s 76us/step - loss: 3.7264\n",
      "Epoch 267/300\n",
      "1000/1000 [==============================] - 0s 80us/step - loss: 3.7274\n",
      "Epoch 268/300\n",
      "1000/1000 [==============================] - 0s 48us/step - loss: 3.6778\n",
      "Epoch 269/300\n",
      "1000/1000 [==============================] - 0s 81us/step - loss: 3.6929\n",
      "Epoch 270/300\n",
      "1000/1000 [==============================] - 0s 61us/step - loss: 3.6629\n",
      "Epoch 271/300\n",
      "1000/1000 [==============================] - 0s 89us/step - loss: 3.6414\n",
      "Epoch 272/300\n",
      "1000/1000 [==============================] - 0s 94us/step - loss: 3.6355\n",
      "Epoch 273/300\n",
      "1000/1000 [==============================] - 0s 107us/step - loss: 3.6397\n",
      "Epoch 274/300\n",
      "1000/1000 [==============================] - 0s 94us/step - loss: 3.6335\n",
      "Epoch 275/300\n",
      "1000/1000 [==============================] - 0s 99us/step - loss: 3.5892\n",
      "Epoch 276/300\n",
      "1000/1000 [==============================] - 0s 67us/step - loss: 3.5737\n",
      "Epoch 277/300\n",
      "1000/1000 [==============================] - 0s 78us/step - loss: 3.5647\n",
      "Epoch 278/300\n",
      "1000/1000 [==============================] - 0s 102us/step - loss: 3.5927\n",
      "Epoch 279/300\n",
      "1000/1000 [==============================] - 0s 68us/step - loss: 3.5556\n",
      "Epoch 280/300\n",
      "1000/1000 [==============================] - 0s 117us/step - loss: 3.5675\n",
      "Epoch 281/300\n",
      "1000/1000 [==============================] - 0s 112us/step - loss: 3.5546\n"
     ]
    },
    {
     "name": "stdout",
     "output_type": "stream",
     "text": [
      "Epoch 282/300\n",
      "1000/1000 [==============================] - 0s 74us/step - loss: 3.5249\n",
      "Epoch 283/300\n",
      "1000/1000 [==============================] - 0s 73us/step - loss: 3.5112\n",
      "Epoch 284/300\n",
      "1000/1000 [==============================] - 0s 46us/step - loss: 3.4913\n",
      "Epoch 285/300\n",
      "1000/1000 [==============================] - 0s 49us/step - loss: 3.4836\n",
      "Epoch 286/300\n",
      "1000/1000 [==============================] - 0s 49us/step - loss: 3.4677\n",
      "Epoch 287/300\n",
      "1000/1000 [==============================] - 0s 48us/step - loss: 3.4491\n",
      "Epoch 288/300\n",
      "1000/1000 [==============================] - 0s 51us/step - loss: 3.4860\n",
      "Epoch 289/300\n",
      "1000/1000 [==============================] - 0s 53us/step - loss: 3.4302\n",
      "Epoch 290/300\n",
      "1000/1000 [==============================] - 0s 59us/step - loss: 3.4201\n",
      "Epoch 291/300\n",
      "1000/1000 [==============================] - 0s 57us/step - loss: 3.4059\n",
      "Epoch 292/300\n",
      "1000/1000 [==============================] - 0s 67us/step - loss: 3.4097\n",
      "Epoch 293/300\n",
      "1000/1000 [==============================] - 0s 66us/step - loss: 3.3928\n",
      "Epoch 294/300\n",
      "1000/1000 [==============================] - 0s 73us/step - loss: 3.3753\n",
      "Epoch 295/300\n",
      "1000/1000 [==============================] - 0s 44us/step - loss: 3.3815\n",
      "Epoch 296/300\n",
      "1000/1000 [==============================] - 0s 46us/step - loss: 3.3535\n",
      "Epoch 297/300\n",
      "1000/1000 [==============================] - 0s 45us/step - loss: 3.3409\n",
      "Epoch 298/300\n",
      "1000/1000 [==============================] - 0s 47us/step - loss: 3.3356\n",
      "Epoch 299/300\n",
      "1000/1000 [==============================] - 0s 47us/step - loss: 3.3159\n",
      "Epoch 300/300\n",
      "1000/1000 [==============================] - 0s 48us/step - loss: 3.3057\n"
     ]
    },
    {
     "data": {
      "text/plain": [
       "<keras.callbacks.History at 0xb2429a048>"
      ]
     },
     "execution_count": 9,
     "metadata": {},
     "output_type": "execute_result"
    }
   ],
   "source": [
    "model.fit(X,y, epochs=300)"
   ]
  },
  {
   "cell_type": "code",
   "execution_count": 10,
   "metadata": {},
   "outputs": [
    {
     "data": {
      "image/png": "[encoded data removed]",
      "text/plain": [
       "<Figure size 720x360 with 1 Axes>"
      ]
     },
     "metadata": {},
     "output_type": "display_data"
    }
   ],
   "source": [
    "plt.figure(figsize=(10,5))\n",
    "plt.plot(X,y, label='true function')\n",
    "plt.plot(X, model.predict(X), label='predicted function')\n",
    "plt.legend()\n",
    "plt.show()"
   ]
  },
  {
   "cell_type": "markdown",
   "metadata": {},
   "source": [
    "Построим на Keras более сложную модель. Это можно сделать так: создать слои, применять слои к предыдущим слоям, затем явно указать входы и выходы модели. Например:"
   ]
  },
  {
   "cell_type": "code",
   "execution_count": 22,
   "metadata": {},
   "outputs": [],
   "source": [
    "l_inp = L.Input([64])\n",
    "\n",
    "l_dense1 = L.Dense(50, activation='sigmoid')(l_inp)\n",
    "l_dense2 = L.Dense(50, activation='relu')(l_inp)\n",
    "\n",
    "l_concat = L.Concatenate()([l_dense1, l_dense2])\n",
    "l_pre_output = L.Dense(10)(l_concat)\n",
    "l_out = L.Activation('softmax')(l_pre_output)\n",
    "\n",
    "model = keras.models.Model(inputs=[l_inp], outputs=[l_out])\n",
    "model.compile(optimizer='adam', loss='sparse_categorical_crossentropy')"
   ]
  },
  {
   "cell_type": "code",
   "execution_count": 23,
   "metadata": {},
   "outputs": [
    {
     "name": "stdout",
     "output_type": "stream",
     "text": [
      "Epoch 1/10\n",
      "1797/1797 [==============================] - 0s 244us/step - loss: 2.5458\n",
      "Epoch 2/10\n",
      "1797/1797 [==============================] - 0s 52us/step - loss: 0.4567\n",
      "Epoch 3/10\n",
      "1797/1797 [==============================] - 0s 53us/step - loss: 0.2782\n",
      "Epoch 4/10\n",
      "1797/1797 [==============================] - 0s 52us/step - loss: 0.1969\n",
      "Epoch 5/10\n",
      "1797/1797 [==============================] - 0s 54us/step - loss: 0.1505\n",
      "Epoch 6/10\n",
      "1797/1797 [==============================] - 0s 51us/step - loss: 0.1308\n",
      "Epoch 7/10\n",
      "1797/1797 [==============================] - 0s 55us/step - loss: 0.1029\n",
      "Epoch 8/10\n",
      "1797/1797 [==============================] - 0s 54us/step - loss: 0.0844\n",
      "Epoch 9/10\n",
      "1797/1797 [==============================] - 0s 64us/step - loss: 0.0719\n",
      "Epoch 10/10\n",
      "1797/1797 [==============================] - 0s 63us/step - loss: 0.0604\n",
      "\n",
      "Accuracy = 0.989\n"
     ]
    }
   ],
   "source": [
    "model.fit(X, y, epochs=10)\n",
    "y_proba = model.predict(X)\n",
    "\n",
    "from sklearn.metrics import accuracy_score\n",
    "print(\"\\nAccuracy = %.3f\" % accuracy_score(y, np.argmax(y_proba, axis=1)))"
   ]
  },
  {
   "cell_type": "markdown",
   "metadata": {},
   "source": [
    "### Обучение нейронной сети на примере датасета cifar10"
   ]
  },
  {
   "cell_type": "code",
   "execution_count": 24,
   "metadata": {},
   "outputs": [
    {
     "name": "stdout",
     "output_type": "stream",
     "text": [
      "(40000, 32, 32, 3) (40000, 1)\n"
     ]
    }
   ],
   "source": [
    "from keras.datasets import cifar10\n",
    "from sklearn.model_selection import train_test_split\n",
    "(X_train, y_train), (X_test, y_test) = cifar10.load_data()\n",
    "X_train, X_val, y_train, y_val = train_test_split(X_train, y_train, test_size=10**4, random_state=42)\n",
    "\n",
    "class_names = np.array(['airplane','automobile ','bird ','cat ','deer ','dog ','frog ','horse ','ship ','truck'])\n",
    "\n",
    "print (X_train.shape,y_train.shape)"
   ]
  },
  {
   "cell_type": "code",
   "execution_count": 25,
   "metadata": {},
   "outputs": [
    {
     "data": {
      "image/png": "[encoded data removed]",
      "text/plain": [
       "<Figure size 864x720 with 12 Axes>"
      ]
     },
     "metadata": {},
     "output_type": "display_data"
    }
   ],
   "source": [
    "import matplotlib.pyplot as plt\n",
    "%matplotlib inline\n",
    "\n",
    "plt.figure(figsize=[12,10])\n",
    "for i in range(12):\n",
    "    plt.subplot(3, 4, i + 1)\n",
    "    plt.xlabel(class_names[y_train[i, 0]])\n",
    "    plt.imshow(X_train[i])"
   ]
  },
  {
   "cell_type": "markdown",
   "metadata": {},
   "source": [
    "Нормировка:"
   ]
  },
  {
   "cell_type": "code",
   "execution_count": 26,
   "metadata": {},
   "outputs": [],
   "source": [
    "X_train = X_train / 255\n",
    "X_val = X_val / 255\n",
    "X_test = X_test / 255"
   ]
  },
  {
   "cell_type": "code",
   "execution_count": 27,
   "metadata": {},
   "outputs": [],
   "source": [
    "model = keras.models.Sequential()\n",
    "\n",
    "model.add(L.InputLayer(input_shape=[32,32,3]))\n",
    "model.add(L.Flatten())\n",
    "model.add(L.Dense(300, activation='relu'))\n",
    "model.add(L.Dense(100, activation='relu'))\n",
    "model.add(L.Dense(10, activation='softmax'))\n",
    "\n",
    "model.compile(loss='sparse_categorical_crossentropy', optimizer='adam')"
   ]
  },
  {
   "cell_type": "code",
   "execution_count": 28,
   "metadata": {},
   "outputs": [
    {
     "name": "stdout",
     "output_type": "stream",
     "text": [
      "Train on 40000 samples, validate on 10000 samples\n",
      "Epoch 1/7\n",
      "40000/40000 [==============================] - 26s 655us/step - loss: 1.9151 - val_loss: 1.7894\n",
      "Epoch 2/7\n",
      "40000/40000 [==============================] - 27s 663us/step - loss: 1.7218 - val_loss: 1.6639\n",
      "Epoch 3/7\n",
      "40000/40000 [==============================] - 24s 592us/step - loss: 1.6298 - val_loss: 1.6296\n",
      "Epoch 4/7\n",
      "40000/40000 [==============================] - 25s 630us/step - loss: 1.5729 - val_loss: 1.5850\n",
      "Epoch 5/7\n",
      "40000/40000 [==============================] - 25s 629us/step - loss: 1.5334 - val_loss: 1.5426\n",
      "Epoch 6/7\n",
      "40000/40000 [==============================] - 25s 615us/step - loss: 1.5008 - val_loss: 1.5882\n",
      "Epoch 7/7\n",
      "40000/40000 [==============================] - 27s 676us/step - loss: 1.4745 - val_loss: 1.6540\n"
     ]
    },
    {
     "data": {
      "text/plain": [
       "<keras.callbacks.History at 0x1a27d4f438>"
      ]
     },
     "execution_count": 28,
     "metadata": {},
     "output_type": "execute_result"
    }
   ],
   "source": [
    "model.fit(X_train, y_train, epochs=7, validation_data=[X_val, y_val])"
   ]
  },
  {
   "cell_type": "code",
   "execution_count": 29,
   "metadata": {},
   "outputs": [
    {
     "name": "stdout",
     "output_type": "stream",
     "text": [
      "\n",
      " Test_acc = 0.4258\n"
     ]
    },
    {
     "ename": "AssertionError",
     "evalue": "Not good enough. Back to the drawing board :)",
     "output_type": "error",
     "traceback": [
      "\u001b[0;31m---------------------------------------------------------------------------\u001b[0m",
      "\u001b[0;31mAssertionError\u001b[0m                            Traceback (most recent call last)",
      "\u001b[0;32m<ipython-input-29-f52d95068d84>\u001b[0m in \u001b[0;36m<module>\u001b[0;34m()\u001b[0m\n\u001b[1;32m      2\u001b[0m \u001b[0mtest_acc\u001b[0m \u001b[0;34m=\u001b[0m \u001b[0maccuracy_score\u001b[0m\u001b[0;34m(\u001b[0m\u001b[0my_test\u001b[0m\u001b[0;34m,\u001b[0m \u001b[0mmodel\u001b[0m\u001b[0;34m.\u001b[0m\u001b[0mpredict_classes\u001b[0m\u001b[0;34m(\u001b[0m\u001b[0mX_test\u001b[0m\u001b[0;34m)\u001b[0m\u001b[0;34m)\u001b[0m\u001b[0;34m\u001b[0m\u001b[0;34m\u001b[0m\u001b[0m\n\u001b[1;32m      3\u001b[0m \u001b[0mprint\u001b[0m\u001b[0;34m(\u001b[0m\u001b[0;34m\"\\n Test_acc =\"\u001b[0m\u001b[0;34m,\u001b[0m \u001b[0mtest_acc\u001b[0m\u001b[0;34m)\u001b[0m\u001b[0;34m\u001b[0m\u001b[0;34m\u001b[0m\u001b[0m\n\u001b[0;32m----> 4\u001b[0;31m \u001b[0;32massert\u001b[0m \u001b[0mtest_acc\u001b[0m \u001b[0;34m>\u001b[0m \u001b[0;36m0.45\u001b[0m\u001b[0;34m,\u001b[0m \u001b[0;34m\"Not good enough. Back to the drawing board :)\"\u001b[0m\u001b[0;34m\u001b[0m\u001b[0;34m\u001b[0m\u001b[0m\n\u001b[0m\u001b[1;32m      5\u001b[0m \u001b[0mprint\u001b[0m\u001b[0;34m(\u001b[0m\u001b[0;34m\" Not bad!\"\u001b[0m\u001b[0;34m)\u001b[0m\u001b[0;34m\u001b[0m\u001b[0;34m\u001b[0m\u001b[0m\n",
      "\u001b[0;31mAssertionError\u001b[0m: Not good enough. Back to the drawing board :)"
     ]
    }
   ],
   "source": [
    "from sklearn.metrics import accuracy_score\n",
    "test_acc = accuracy_score(y_test, model.predict_classes(X_test))\n",
    "print(\"\\n Test_acc =\", test_acc)\n",
    "assert test_acc > 0.45, \"Not good enough. Back to the drawing board :)\"\n",
    "print(\" Not bad!\")"
   ]
  },
  {
   "cell_type": "markdown",
   "metadata": {},
   "source": [
    "### Улучшаем модель\n",
    "Составьте и обучите модель, состоящую из следующих слоёв:"
   ]
  },
  {
   "cell_type": "markdown",
   "metadata": {},
   "source": [
    "- Входной слой\n",
    "- Свёртка 3x3 с 10 фильтрами\n",
    "- Нелинейность на ваш вкус\n",
    "- Max-pooling 2x2\n",
    "- Вытягиваем оставшееся в вектор (Flatten)\n",
    "- Полносвязный слой на 100 нейронов\n",
    "- Нелинейность на ваш вкус\n",
    "- Выходной полносвязный слой с softmax"
   ]
  },
  {
   "cell_type": "code",
   "execution_count": 30,
   "metadata": {
    "colab": {},
    "colab_type": "code",
    "id": "xe3qeZVEYamc"
   },
   "outputs": [],
   "source": [
    "model = keras.models.Sequential()\n",
    "\n",
    "model.add(L.InputLayer(input_shape=[32,32,3]))\n",
    "model.add(L.Conv2D(filters=10, kernel_size=(3,3)))\n",
    "model.add(L.Activation('relu'))\n",
    "model.add(L.MaxPooling2D())\n",
    "model.add(L.Flatten())\n",
    "model.add(L.Dense(100, activation='relu'))\n",
    "model.add(L.Dense(10, activation='softmax'))\n",
    "model.compile(loss='sparse_categorical_crossentropy', metrics=['accuracy'], optimizer='adam')"
   ]
  },
  {
   "cell_type": "code",
   "execution_count": 31,
   "metadata": {
    "colab": {
     "base_uri": "https://localhost:8080/",
     "height": 241
    },
    "colab_type": "code",
    "id": "c-Cq48PnYaml",
    "outputId": "e453c8cf-3414-4ab8-c0e8-2a74ed14fc6c"
   },
   "outputs": [
    {
     "name": "stdout",
     "output_type": "stream",
     "text": [
      "Train on 40000 samples, validate on 10000 samples\n",
      "Epoch 1/5\n",
      "40000/40000 [==============================] - 27s 681us/step - loss: 1.6383 - acc: 0.4118 - val_loss: 1.4368 - val_acc: 0.4835\n",
      "Epoch 2/5\n",
      "40000/40000 [==============================] - 29s 721us/step - loss: 1.3771 - acc: 0.5136 - val_loss: 1.3548 - val_acc: 0.5207\n",
      "Epoch 3/5\n",
      "40000/40000 [==============================] - 26s 658us/step - loss: 1.2714 - acc: 0.5531 - val_loss: 1.2643 - val_acc: 0.5524\n",
      "Epoch 4/5\n",
      "40000/40000 [==============================] - 26s 655us/step - loss: 1.1955 - acc: 0.5796 - val_loss: 1.2358 - val_acc: 0.5635\n",
      "Epoch 5/5\n",
      "40000/40000 [==============================] - 25s 627us/step - loss: 1.1347 - acc: 0.6012 - val_loss: 1.2344 - val_acc: 0.5688\n"
     ]
    },
    {
     "data": {
      "text/plain": [
       "<keras.callbacks.History at 0x1a28312908>"
      ]
     },
     "execution_count": 31,
     "metadata": {},
     "output_type": "execute_result"
    }
   ],
   "source": [
    "model.fit(X_train, y_train, epochs=5, validation_data=[X_val, y_val])"
   ]
  },
  {
   "cell_type": "code",
   "execution_count": 32,
   "metadata": {
    "colab": {
     "base_uri": "https://localhost:8080/",
     "height": 68
    },
    "colab_type": "code",
    "id": "kcBT4Zg4Yamx",
    "outputId": "2e23ff16-f478-43e9-8715-52c9b9110114"
   },
   "outputs": [
    {
     "name": "stdout",
     "output_type": "stream",
     "text": [
      "\n",
      " Test_acc = 0.5616\n",
      " Not bad!\n"
     ]
    }
   ],
   "source": [
    "from sklearn.metrics import accuracy_score\n",
    "test_acc = accuracy_score(y_test, model.predict_classes(X_test))\n",
    "print(\"\\n Test_acc =\", test_acc)\n",
    "assert test_acc > 0.50, \"Not good enough. Back to the drawing board :)\"\n",
    "print(\" Not bad!\")"
   ]
  },
  {
   "cell_type": "code",
   "execution_count": null,
   "metadata": {},
   "outputs": [],
   "source": []
  }
 ],
 "metadata": {
  "kernelspec": {
   "display_name": "Python 3",
   "language": "python",
   "name": "python3"
  },
  "language_info": {
   "codemirror_mode": {
    "name": "ipython",
    "version": 3
   },
   "file_extension": ".py",
   "mimetype": "text/x-python",
   "name": "python",
   "nbconvert_exporter": "python",
   "pygments_lexer": "ipython3",
   "version": "3.6.7"
  }
 },
 "nbformat": 4,
 "nbformat_minor": 2
}
