{
 "cells": [
  {
   "cell_type": "markdown",
   "metadata": {},
   "source": [
    "#### Задание 1. Bias-Variance decomposition.\n",
    "\n",
    "Как известно, ошибка алгоритма может быть разложена по формуле bias-variance decomposition на\n",
    "\n",
    "$$error^2 = bias^2 + variance$$,\n",
    "\n",
    "где $bias^2$ -- среднеквадратичное отклонение средних ответов алгоритма от истинных ответов, а variance -- среднее отклонение ответов алгоритма от среднего ответа. \n",
    "\n",
    "Предлагается оценить bias и variance с помощью бустрапной оценки.\n",
    "\n",
    "В цикле обучим N моделей, где на шаге i:\n",
    "\n",
    "1) Выберем n элементов из выборки по схеме выбора с возвращением (функция np.random.choice()). Обучим на ней модель и получим вектор предсказаний $\\hat{y}_i$.\n",
    "\n",
    "2) Вычислим среднее предсказание $\\overline{y} = \\frac{1}{N}\\sum_{i=1}^{N} \\hat{y}_i.$\n",
    "\n",
    "3) Посчитаем среднюю ошибку алгоритма $error=\\frac{1}{N}\\sum_{i=1}^{N}MSE(y,\\hat{y}_i).$\n",
    "\n",
    "4) Посчитаем смещение: $bias^2 = MSE(y, \\overline y)$\n",
    "\n",
    "5) Посчитаем разброс: $variance = \\frac{1}{N}\\sum_{i=1}^N MSE(\\hat{y}_i, \\overline y).$\n"
   ]
  },
  {
   "cell_type": "markdown",
   "metadata": {},
   "source": [
    "В качестве алгоритма будем использовать решающее дерево. Данные хранятся в файле $\\textbf{blogData_train.csv}$"
   ]
  },
  {
   "cell_type": "markdown",
   "metadata": {},
   "source": [
    "Постройте графики зависимости $error$, $bias^2$ и $variance$ от глубины решающего дерева (от 1 до 15 включительно) для $N=100$. "
   ]
  },
  {
   "cell_type": "code",
   "execution_count": null,
   "metadata": {
    "collapsed": true
   },
   "outputs": [],
   "source": [
    "import numpy as np\n",
    "import pandas as pd\n",
    "from matplotlib import pyplot as plt\n",
    "from tqdm import tqdm\n",
    "%matplotlib inline"
   ]
  },
  {
   "cell_type": "code",
   "execution_count": null,
   "metadata": {},
   "outputs": [],
   "source": [
    "from sklearn.model_selection import train_test_split\n",
    "from sklearn.metrics import mean_squared_error\n",
    "from sklearn.tree import DecisionTreeRegressor"
   ]
  },
  {
   "cell_type": "code",
   "execution_count": null,
   "metadata": {},
   "outputs": [],
   "source": [
    "data = pd.read_csv('blogData_train.csv', header=-1)\n",
    "data.head()"
   ]
  },
  {
   "cell_type": "code",
   "execution_count": null,
   "metadata": {},
   "outputs": [],
   "source": [
    "# Разбейте выборку на train и test в соотношении 4:1\n",
    "\n",
    "data_train, data_test = # ВАШ КОД ЗДЕСЬ"
   ]
  },
  {
   "cell_type": "code",
   "execution_count": null,
   "metadata": {},
   "outputs": [],
   "source": [
    "X_train = data_train.values[:, :-1]\n",
    "X_test = data_test.values[:, :-1]\n",
    "\n",
    "y_train = data_train.values[:, -1]\n",
    "y_test = data_test.values[:, -1]"
   ]
  },
  {
   "cell_type": "code",
   "execution_count": null,
   "metadata": {},
   "outputs": [],
   "source": [
    "# Функция подсчета среднего предсказания\n",
    "\n",
    "def get_mean_prediction(list_of_predictions):\n",
    "    return np.mean(list_of_predictions, axis=0)"
   ]
  },
  {
   "cell_type": "code",
   "execution_count": null,
   "metadata": {},
   "outputs": [],
   "source": [
    "# Напишите функции, которые по вектору ответов и набору из N предсказаний выдают среднюю ошибку,\n",
    "# bias и variance\n",
    "\n",
    "def error(y_true, list_of_predictions):\n",
    "    # ВАШ КОД ЗДЕСЬ\n",
    "    return error\n",
    "\n",
    "def bias(y_true, list_of_predictions):\n",
    "    # ВАШ КОД ЗДЕСЬ\n",
    "    return error\n",
    "\n",
    "def variance(y_true, list_of_predictions):\n",
    "    # ВАШ КОД ЗДЕСЬ\n",
    "    return error"
   ]
  },
  {
   "cell_type": "code",
   "execution_count": null,
   "metadata": {},
   "outputs": [],
   "source": [
    "# Эксперимент\n",
    "\n",
    "N = 100\n",
    "DEPTHS = np.arange(1, 16)\n",
    "\n",
    "n_objects = X_train.shape[0]\n",
    "\n",
    "errors = []\n",
    "biases = []\n",
    "variances = []\n",
    "\n",
    "for depth in tqdm(DEPTHS):\n",
    "    predictions = []\n",
    "    for i in range(N):\n",
    "        \n",
    "        # Сгенерируем выборку для обучения\n",
    "    \n",
    "        indices = np.random.choice(n_objects, size=n_objects)\n",
    "        X = X_train[indices]\n",
    "        y = y_train[indices]\n",
    "    \n",
    "        # Обучите решающее дерево с глубиной depth на выборке X, y\n",
    "    \n",
    "        model = DecisionTreeRegressor(<ВАШ КОД>)\n",
    "        # ВАШ КОД\n",
    "    \n",
    "        predictions.append(model.predict(X_test))\n",
    "    \n",
    "    errors.append(error(y_test, predictions))\n",
    "    biases.append(bias(y_test, predictions))\n",
    "    variances.append(variance(y_test, predictions))"
   ]
  },
  {
   "cell_type": "markdown",
   "metadata": {},
   "source": [
    "Постройте графики для ошибки, смещения и разброса. Выполняется ли bias-variance разложение?"
   ]
  },
  {
   "cell_type": "markdown",
   "metadata": {},
   "source": [
    "#### Задание 2\n",
    "\n",
    "Воспользуйтесь для решения задачи классификации в предыдущей задаче алгоритм RandomForest. \n",
    "Постройте график зависимости качества (MSE) от числа деревьев."
   ]
  },
  {
   "cell_type": "code",
   "execution_count": null,
   "metadata": {},
   "outputs": [],
   "source": [
    "from sklearn.ensemble import RandomForestRegressor\n",
    "# ВАШ КОД ЗДЕСЬ"
   ]
  },
  {
   "cell_type": "markdown",
   "metadata": {},
   "source": [
    "#### Задание 3\n",
    "\n",
    "Вернемся к задаче предсказания зарплаты. \n",
    "\n",
    "В этом задании мы протестируем Blending - метод построения композиции.\n",
    "\n",
    "Для этого напишите класс Blender, который будет принимать на вход два алгоритма и параметр $\\alpha$ -- вес первого алгоритма в итоговом предсказании.\n",
    "\n",
    "Обучение такой модели состоит в обучении двух исходных моделей, а применение в сумме $y_1 \\alpha + y_2 (1 - \\alpha)$"
   ]
  },
  {
   "cell_type": "code",
   "execution_count": null,
   "metadata": {},
   "outputs": [],
   "source": [
    "from sklearn.base import BaseEstimator, ClassifierMixin"
   ]
  },
  {
   "cell_type": "code",
   "execution_count": null,
   "metadata": {},
   "outputs": [],
   "source": [
    "class Blender(BaseEstimator, ClassifierMixin):\n",
    "    def __init__(self, clf1, clf2, alpha):\n",
    "        # ВАШ КОД ЗДЕСЬ\n",
    "        \n",
    "    def fit(self, X, y):\n",
    "        # ВАШ КОД ЗДЕСЬ\n",
    "        \n",
    "    def predict(X):\n",
    "        # ВАШ КОД ЗДЕСЬ"
   ]
  },
  {
   "cell_type": "code",
   "execution_count": null,
   "metadata": {},
   "outputs": [],
   "source": [
    "df = pd.read_csv('https://archive.ics.uci.edu/ml/machine-learning-databases/adult/adult.data',)\n",
    "# Назначаем имена колонок\n",
    "columns = ('age workclass fnlwgt education educ-num marital-status occupation relationship '\n",
    "           'race sex capital-gain capital-loss  hours-per-week native-country salary')\n",
    "\n",
    "df.columns = columns.split() #этот метод разделит датасет по колонкам как в массиве columns\n",
    "df = df.dropna()"
   ]
  },
  {
   "cell_type": "code",
   "execution_count": null,
   "metadata": {},
   "outputs": [],
   "source": [
    "df_prc = df.copy()\n",
    "df_prc['salary'] = df['salary'].apply((lambda x: x==' >50K')) # Будем предсказывать 1(True), если зарплата больше 50K, 0(False) иначе\n",
    "df_prc.head()"
   ]
  },
  {
   "cell_type": "code",
   "execution_count": null,
   "metadata": {},
   "outputs": [],
   "source": [
    "X = np.array(df_prc[df._get_numeric_data().columns])\n",
    "y = np.array(df_prc['salary'], dtype='int')"
   ]
  },
  {
   "cell_type": "code",
   "execution_count": null,
   "metadata": {},
   "outputs": [],
   "source": []
  }
 ],
 "metadata": {
  "kernelspec": {
   "display_name": "Python 3",
   "language": "python",
   "name": "python3"
  },
  "language_info": {
   "codemirror_mode": {
    "name": "ipython",
    "version": 3
   },
   "file_extension": ".py",
   "mimetype": "text/x-python",
   "name": "python",
   "nbconvert_exporter": "python",
   "pygments_lexer": "ipython3",
   "version": "3.6.7"
  }
 },
 "nbformat": 4,
 "nbformat_minor": 2
}