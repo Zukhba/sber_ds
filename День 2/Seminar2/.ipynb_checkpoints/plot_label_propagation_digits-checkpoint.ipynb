{
 "cells": [
  {
   "cell_type": "code",
   "execution_count": 1,
   "metadata": {},
   "outputs": [],
   "source": [
    "%matplotlib inline"
   ]
  },
  {
   "cell_type": "markdown",
   "metadata": {},
   "source": [
    "\n",
    "===================================================\n",
    "Label Propagation digits: Demonstrating performance\n",
    "===================================================\n",
    "\n",
    "This example demonstrates the power of semisupervised learning by\n",
    "training a Label Spreading model to classify handwritten digits\n",
    "with sets of very few labels.\n",
    "\n",
    "The handwritten digit dataset has 1797 total points. The model will\n",
    "be trained using all points, but only 30 will be labeled. Results\n",
    "in the form of a confusion matrix and a series of metrics over each\n",
    "class will be very good.\n",
    "\n",
    "At the end, the top 10 most uncertain predictions will be shown.\n",
    "\n"
   ]
  },
  {
   "cell_type": "code",
   "execution_count": 2,
   "metadata": {},
   "outputs": [
    {
     "name": "stdout",
     "output_type": "stream",
     "text": [
      "Automatically created module for IPython interactive environment\n",
      "Label Spreading model: 40 labeled & 300 unlabeled points (340 total)\n",
      "              precision    recall  f1-score   support\n",
      "\n",
      "           0       1.00      1.00      1.00        27\n",
      "           1       0.82      1.00      0.90        37\n",
      "           2       1.00      0.86      0.92        28\n",
      "           3       1.00      0.80      0.89        35\n",
      "           4       0.92      1.00      0.96        24\n",
      "           5       0.74      0.94      0.83        34\n",
      "           6       0.89      0.96      0.92        25\n",
      "           7       0.94      0.89      0.91        35\n",
      "           8       1.00      0.68      0.81        31\n",
      "           9       0.81      0.88      0.84        24\n",
      "\n",
      "    accuracy                           0.90       300\n",
      "   macro avg       0.91      0.90      0.90       300\n",
      "weighted avg       0.91      0.90      0.90       300\n",
      "\n",
      "Confusion matrix\n",
      "[[27  0  0  0  0  0  0  0  0  0]\n",
      " [ 0 37  0  0  0  0  0  0  0  0]\n",
      " [ 0  1 24  0  0  0  2  1  0  0]\n",
      " [ 0  0  0 28  0  5  0  1  0  1]\n",
      " [ 0  0  0  0 24  0  0  0  0  0]\n",
      " [ 0  0  0  0  0 32  0  0  0  2]\n",
      " [ 0  0  0  0  0  1 24  0  0  0]\n",
      " [ 0  0  0  0  1  3  0 31  0  0]\n",
      " [ 0  7  0  0  0  0  1  0 21  2]\n",
      " [ 0  0  0  0  1  2  0  0  0 21]]\n"
     ]
    },
    {
     "data": {
      "image/png": "[encoded data removed]",
      "text/plain": [
       "<Figure size 504x360 with 10 Axes>"
      ]
     },
     "metadata": {},
     "output_type": "display_data"
    }
   ],
   "source": [
    "print(__doc__)\n",
    "\n",
    "# Authors: Clay Woolam <clay@woolam.org>\n",
    "# License: BSD\n",
    "\n",
    "import numpy as np\n",
    "import matplotlib.pyplot as plt\n",
    "\n",
    "from scipy import stats\n",
    "\n",
    "from sklearn import datasets\n",
    "from sklearn.semi_supervised import label_propagation\n",
    "\n",
    "from sklearn.metrics import confusion_matrix, classification_report\n",
    "\n",
    "digits = datasets.load_digits()\n",
    "rng = np.random.RandomState(2)\n",
    "indices = np.arange(len(digits.data))\n",
    "rng.shuffle(indices)\n",
    "\n",
    "X = digits.data[indices[:340]]\n",
    "y = digits.target[indices[:340]]\n",
    "images = digits.images[indices[:340]]\n",
    "\n",
    "n_total_samples = len(y)\n",
    "n_labeled_points = 40\n",
    "\n",
    "indices = np.arange(n_total_samples)\n",
    "\n",
    "unlabeled_set = indices[n_labeled_points:]\n",
    "\n",
    "# #############################################################################\n",
    "# Shuffle everything around\n",
    "y_train = np.copy(y)\n",
    "y_train[unlabeled_set] = -1\n",
    "\n",
    "# #############################################################################\n",
    "# Learn with LabelSpreading\n",
    "lp_model = label_propagation.LabelSpreading(gamma=.25, max_iter=20)\n",
    "lp_model.fit(X, y_train)\n",
    "predicted_labels = lp_model.transduction_[unlabeled_set]\n",
    "true_labels = y[unlabeled_set]\n",
    "\n",
    "cm = confusion_matrix(true_labels, predicted_labels, labels=lp_model.classes_)\n",
    "\n",
    "print(\"Label Spreading model: %d labeled & %d unlabeled points (%d total)\" %\n",
    "      (n_labeled_points, n_total_samples - n_labeled_points, n_total_samples))\n",
    "\n",
    "print(classification_report(true_labels, predicted_labels))\n",
    "\n",
    "print(\"Confusion matrix\")\n",
    "print(cm)\n",
    "\n",
    "# #############################################################################\n",
    "# Calculate uncertainty values for each transduced distribution\n",
    "pred_entropies = stats.distributions.entropy(lp_model.label_distributions_.T)\n",
    "\n",
    "# #############################################################################\n",
    "# Pick the top 10 most uncertain labels\n",
    "uncertainty_index = np.argsort(pred_entropies)[-10:]\n",
    "\n",
    "# #############################################################################\n",
    "# Plot\n",
    "f = plt.figure(figsize=(7, 5))\n",
    "for index, image_index in enumerate(uncertainty_index):\n",
    "    image = images[image_index]\n",
    "\n",
    "    sub = f.add_subplot(2, 5, index + 1)\n",
    "    sub.imshow(image, cmap=plt.cm.gray_r)\n",
    "    plt.xticks([])\n",
    "    plt.yticks([])\n",
    "    sub.set_title('predict: %i\\ntrue: %i' % (\n",
    "        lp_model.transduction_[image_index], y[image_index]))\n",
    "\n",
    "f.suptitle('Learning with small amount of labeled data')\n",
    "plt.show()"
   ]
  },
  {
   "cell_type": "code",
   "execution_count": null,
   "metadata": {},
   "outputs": [],
   "source": []
  }
 ],
 "metadata": {
  "kernelspec": {
   "display_name": "Python 3",
   "language": "python",
   "name": "python3"
  },
  "language_info": {
   "codemirror_mode": {
    "name": "ipython",
    "version": 3
   },
   "file_extension": ".py",
   "mimetype": "text/x-python",
   "name": "python",
   "nbconvert_exporter": "python",
   "pygments_lexer": "ipython3",
   "version": "3.6.7"
  }
 },
 "nbformat": 4,
 "nbformat_minor": 1
}
